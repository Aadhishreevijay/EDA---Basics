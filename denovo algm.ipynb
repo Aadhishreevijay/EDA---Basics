{
 "cells": [
  {
   "cell_type": "code",
   "execution_count": null,
   "id": "f783301a-57a2-43e6-8ae6-314f0d204ac4",
   "metadata": {},
   "outputs": [],
   "source": [
    "CIA - 2 [AI]"
   ]
  },
  {
   "cell_type": "code",
   "execution_count": null,
   "id": "c31e8304-0abe-4c3a-ba18-0a64ed9c03cf",
   "metadata": {},
   "outputs": [],
   "source": [
    "#Question 1 - word costruct from last 2 letter of substric in python"
   ]
  },
  {
   "cell_type": "code",
   "execution_count": 5,
   "id": "aea0f249-e2c8-4cc8-a5d5-84db18e2ea48",
   "metadata": {},
   "outputs": [],
   "source": [
    "def merge_str(substring):\n",
    "    merge=substring[0]\n",
    "    for i in range(1, len(substring)):\n",
    "        for j in range(len(merge), 0, -1):\n",
    "            if substring[i].startswith(merge[-j:]):\n",
    "                merge += substring[i][j:]\n",
    "                break\n",
    "    return merge\n"
   ]
  },
  {
   "cell_type": "code",
   "execution_count": 7,
   "id": "b47d9ea1-50dc-45e7-9add-4156adeb6a7c",
   "metadata": {},
   "outputs": [
    {
     "name": "stdin",
     "output_type": "stream",
     "text": [
      "Enter substring:  snu_\n",
      "Enter substring:  u_ch\n",
      "Enter substring:  chen\n",
      "Enter substring:  enna\n",
      "Enter substring:  nai\n",
      "Enter substring:  -\n"
     ]
    },
    {
     "name": "stdout",
     "output_type": "stream",
     "text": [
      "Word:snu_chennai\n"
     ]
    }
   ],
   "source": [
    "substring=[]\n",
    "while True:\n",
    "    sub_string=input(\"Enter substring: \")\n",
    "    if sub_string.lower()=='-':\n",
    "        break\n",
    "    substring.append(sub_string)\n",
    "final=merge_str(substring)\n",
    "print(\"Word:\" + final)\n"
   ]
  },
  {
   "cell_type": "code",
   "execution_count": null,
   "id": "7bb2671c-0743-40e8-a11d-de0d8ac81bdd",
   "metadata": {},
   "outputs": [],
   "source": [
    "#Question 2\n",
    "'''1. Use of Depth-First Search (DFS) to find the best \"parent\" string from a list of strings.\n",
    "2. The DFS starts with the first string and tries to merge strings by matching their beginnings and ends.\n",
    "3. We calculate how well each merge fits together by measuring their lengths.\n",
    "4. If a merge looks better than the previous best, we update our \"best parent\" string.\n",
    "5. This process continues, exploring different merge combinations.\n",
    "6. The DFS eventually finds the best parent string by comparing their lengths.\n",
    "7. This shows how a search algorithm helps solve text-related problems efficiently.'''"
   ]
  },
  {
   "cell_type": "code",
   "execution_count": 28,
   "id": "9de84a59-db17-478f-a8be-8adad5750886",
   "metadata": {},
   "outputs": [
    {
     "name": "stdin",
     "output_type": "stream",
     "text": [
      "Enter substring:  snu_\n",
      "Enter substring:  u_ch\n",
      "Enter substring:  chen\n",
      "Enter substring:  enna\n",
      "Enter substring:  nai\n",
      "Enter substring:  -\n"
     ]
    },
    {
     "name": "stdout",
     "output_type": "stream",
     "text": [
      "Current merged string: snu_\n",
      "Current merged string: snu_ch\n",
      "Current merged string: snu_chen\n",
      "Current merged string: snu_chenna\n",
      "Current merged string: snu_chennai\n",
      "Best parent string found: snu_chennai\n"
     ]
    },
    {
     "name": "stdin",
     "output_type": "stream",
     "text": [
      "Add more strings? (y/n):  n\n"
     ]
    },
    {
     "name": "stdout",
     "output_type": "stream",
     "text": [
      "Final parent string: snu_chennai\n"
     ]
    }
   ],
   "source": [
    "from collections import deque\n",
    "def can_merge(s1,s2):\n",
    "    return s1.endswith(s2[:2])\n",
    "given_strings=[]\n",
    "while True:\n",
    "    substring = input(\"Enter substring: \")\n",
    "    if substring.lower()=='-':\n",
    "        break\n",
    "    given_strings.append(substring)\n",
    "queue = deque([(given_strings[0],given_strings[1:])])\n",
    "best_parent_string=given_strings[0]\n",
    "best_similarity=0\n",
    "while queue:\n",
    "    current_string,remaining_strings=queue.popleft()\n",
    "    if not remaining_strings:\n",
    "        similarity=len(current_string)/len(\"\".join(given_strings))\n",
    "        if similarity>best_similarity:\n",
    "            best_similarity=similarity\n",
    "            best_parent_string=current_string\n",
    "    else:\n",
    "        for i, remaining_string in enumerate(remaining_strings):\n",
    "            if can_merge(current_string,remaining_string):\n",
    "                new_current=current_string+remaining_string[2:]\n",
    "                new_remaining=remaining_strings[:i]+remaining_strings[i + 1:]\n",
    "                queue.append((new_current,new_remaining))\n",
    "    print(\"Current merged string:\",current_string)\n",
    "print(\"Best parent string found:\",best_parent_string)\n",
    "while True:\n",
    "    choice=input(\"Add more strings? (y/n): \").lower()\n",
    "    if choice=='y':\n",
    "        new_substring=input(\"Enter another substring to merge with the current parent: \")\n",
    "        if can_merge(best_parent_string,new_substring):\n",
    "            best_parent_string+=new_substring[2:]\n",
    "            print(\"Updated parent string:\",best_parent_string)\n",
    "        else:\n",
    "            print(\"Cannot merge the provided substring with the current parent.\")\n",
    "    elif choice=='n':\n",
    "        break\n",
    "print(\"Final parent string:\",best_parent_string)"
   ]
  },
  {
   "cell_type": "code",
   "execution_count": 19,
   "id": "b554927a-1d16-438e-ae92-26fbd8842813",
   "metadata": {},
   "outputs": [
    {
     "ename": "IndentationError",
     "evalue": "unindent does not match any outer indentation level (<tokenize>, line 16)",
     "output_type": "error",
     "traceback": [
      "\u001b[1;36m  File \u001b[1;32m<tokenize>:16\u001b[1;36m\u001b[0m\n\u001b[1;33m    b_parent_string=string[0]\u001b[0m\n\u001b[1;37m    ^\u001b[0m\n\u001b[1;31mIndentationError\u001b[0m\u001b[1;31m:\u001b[0m unindent does not match any outer indentation level\n"
     ]
    }
   ],
   "source": [
    "def parent_string(string):\n",
    "    def merge(s1,s2):\n",
    "        return s1.endswith(s2[:2])\n",
    "    def dfs(current_string,remaining_string):     \n",
    "        if not remaining_string:\n",
    "            similarity=len(current_string[0])/len(\"\".join(string))\n",
    "            if similarity>best_similarity:\n",
    "                parent_string=current_string[0]\n",
    "                best_similarity=similarity\n",
    "        else:\n",
    "            for i, remaining_string in enumerate(remaining_string):\n",
    "                if merge(current_string[0],remaining_string):\n",
    "                    new_current=[current_string[0]+remaining_string[2:]]\n",
    "                    new_remaining=remaining_string[:i]+remaining_string[i + 1:]\n",
    "                    dfs(new_current, new_remaining)\n",
    "     b_parent_string=string[0]\n",
    "     best_similarity=0\n",
    "     dfs([string[0]],string[1:])\n",
    "     return best_parent_string\n",
    "string=input(\"Enter list of string: \").split(\",\")\n",
    "b_parent_string = parent_string(string)\n",
    "print(\"Best parent string:\", b_parent_string)"
   ]
  },
  {
   "cell_type": "code",
   "execution_count": 21,
   "id": "1f7ceb73-9805-4b0f-aed3-52b54a261e90",
   "metadata": {},
   "outputs": [
    {
     "name": "stdin",
     "output_type": "stream",
     "text": [
      "Enter list of strings:  snu_\n"
     ]
    },
    {
     "name": "stdout",
     "output_type": "stream",
     "text": [
      "Best parent string: snu_\n"
     ]
    }
   ],
   "source": [
    "string=input(\"Enter list of strings: \").split(\",\")\n",
    "def merge(s1,s2):\n",
    "    return s1.endswith(s2[:2])\n",
    "best_parent_string=[string[0]]\n",
    "best_similarity=[0]\n",
    "def dfs(current_string,remaining_string):\n",
    "    if not remaining_string:\n",
    "        similarity=len(current_string[0])/len(\"\".join(string))\n",
    "        if similarity>best_similarity[0]:\n",
    "            best_similarity[0]=similarity\n",
    "            best_parent_string[0]=current_string[0]\n",
    "    else:\n",
    "        for i,remaining_string in enumerate(remaining_string):\n",
    "            if merge(current_string[0],remaining_string):\n",
    "                new_curren=[current_string[0]+remaining_string[2:]]\n",
    "                new_remaining=remaining_string[:i]+remaining_string[i+1:]\n",
    "                dfs(new_current,new_remaining)\n",
    "dfs([string[0]],string[1:])\n",
    "print(\"Best parent string:\",best_parent_string[0])"
   ]
  }
 ],
 "metadata": {
  "kernelspec": {
   "display_name": "Python 3 (ipykernel)",
   "language": "python",
   "name": "python3"
  },
  "language_info": {
   "codemirror_mode": {
    "name": "ipython",
    "version": 3
   },
   "file_extension": ".py",
   "mimetype": "text/x-python",
   "name": "python",
   "nbconvert_exporter": "python",
   "pygments_lexer": "ipython3",
   "version": "3.11.4"
  }
 },
 "nbformat": 4,
 "nbformat_minor": 5
}
