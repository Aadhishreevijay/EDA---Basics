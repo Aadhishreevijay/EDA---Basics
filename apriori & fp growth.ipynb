{
  "nbformat": 4,
  "nbformat_minor": 0,
  "metadata": {
    "colab": {
      "provenance": []
    },
    "kernelspec": {
      "name": "python3",
      "display_name": "Python 3"
    },
    "language_info": {
      "name": "python"
    }
  },
  "cells": [
    {
      "cell_type": "markdown",
      "source": [
        "***Data Mining CIA - Apriori & FP Growth Tree***"
      ],
      "metadata": {
        "id": "2fwMpOnEG6La"
      }
    },
    {
      "cell_type": "markdown",
      "source": [
        "# ***Apriori***"
      ],
      "metadata": {
        "id": "9itcr-Y3GGSC"
      }
    },
    {
      "cell_type": "code",
      "source": [
        "import pandas as pd\n",
        "df=pd.read_csv('/content/store_data.csv')\n",
        "\n",
        "# Preprocess the data to convert it into a list of transactions\n",
        "transactions=[]\n",
        "for index, row in df.iterrows():\n",
        "    transaction=[item.strip() for item in row if isinstance(item, str)]\n",
        "    transactions.append(transaction)\n",
        "\n",
        "# Define a function to generate candidate itemsets\n",
        "def generate_candidates(prev_itemsets, k):\n",
        "    candidates=[]\n",
        "    n=len(prev_itemsets)\n",
        "    for i in range(n):\n",
        "        for j in range(i + 1, n):\n",
        "            itemset1=prev_itemsets[i]\n",
        "            itemset2=prev_itemsets[j]\n",
        "            if itemset1[:-1]==itemset2[:-1]:\n",
        "                candidate=sorted(itemset1 + [itemset2[-1]])\n",
        "                if all(candidate[:i]+candidate[i+1:] in prev_itemsets for i in range(k)):\n",
        "                    candidates.append(candidate)\n",
        "    return candidates\n",
        "\n",
        "# Define a function to calculate support count\n",
        "def support_count(data,itemset):\n",
        "    count=0\n",
        "    for transaction in data:\n",
        "        if all(item in transaction for item in itemset):\n",
        "            count+=1\n",
        "    return count\n",
        "\n",
        "# Define a function to apply the Apriori algorithm\n",
        "def apriori(data, min_support):\n",
        "    itemsets=[[[item]] for item in sorted(set(item for transaction in data for item in transaction))]\n",
        "    frequent_itemsets=[]\n",
        "    while itemsets:\n",
        "        candidates=generate_candidates([itemset for sublist in itemsets for itemset in sublist], len(itemsets[0][0]) + 1)\n",
        "        frequent_itemsets_level=[]\n",
        "        for candidate in candidates:\n",
        "            support=support_count(data, candidate)\n",
        "            if support>=min_support * len(data):\n",
        "                frequent_itemsets_level.append(candidate)\n",
        "        if frequent_itemsets_level:\n",
        "            frequent_itemsets.extend(frequent_itemsets_level)\n",
        "            itemsets=[frequent_itemsets_level]\n",
        "        else:\n",
        "            break\n",
        "    return frequent_itemsets\n",
        "\n",
        "# Define the minimum support threshold\n",
        "min_support=0.05\n",
        "\n",
        "# Apply the Apriori algorithm to find frequent itemsets\n",
        "frequent_itemsets=apriori(transactions, min_support)\n",
        "\n",
        "# Print the frequent itemsets\n",
        "print(\"Frequent Itemsets:\")\n",
        "for itemset in frequent_itemsets:\n",
        "    print(itemset)"
      ],
      "metadata": {
        "colab": {
          "base_uri": "https://localhost:8080/"
        },
        "id": "YOendVZlF7Ov",
        "outputId": "d10a0bb0-0afd-4809-bdfb-0bc914f5738c"
      },
      "execution_count": null,
      "outputs": [
        {
          "output_type": "stream",
          "name": "stdout",
          "text": [
            "Frequent Itemsets:\n",
            "['chocolate', 'mineral water']\n",
            "['eggs', 'mineral water']\n",
            "['mineral water', 'spaghetti']\n"
          ]
        }
      ]
    },
    {
      "cell_type": "markdown",
      "source": [
        "# ***FP - Growth Tree***"
      ],
      "metadata": {
        "id": "5kBM0EOfGPFf"
      }
    },
    {
      "cell_type": "code",
      "source": [
        "import pandas as pd\n",
        "\n",
        "# Define a class for the FP Tree Node\n",
        "class FPNode:\n",
        "    def __init__(self, item, count, parent):\n",
        "        self.item=item\n",
        "        self.count=count\n",
        "        self.parent=parent\n",
        "        self.children={}\n",
        "\n",
        "    def increment(self, count):\n",
        "        self.count+=count\n",
        "\n",
        "class FPTree:\n",
        "    def __init__(self):\n",
        "        self.root=FPNode(None, 0, None)\n",
        "        self.header_table={}\n",
        "\n",
        "    # Add a transaction to the FP-tree\n",
        "    def add_transaction(self, transaction, count):\n",
        "        current_node=self.root\n",
        "        for item in transaction:\n",
        "            if item in current_node.children:\n",
        "                child_node=current_node.children[item]\n",
        "                child_node.count+=count\n",
        "            else:\n",
        "                child_node=FPNode(item, count, current_node)\n",
        "                current_node.children[item]=child_node\n",
        "                if item in self.header_table:\n",
        "                    self.header_table[item].append(child_node)\n",
        "                else:\n",
        "                    self.header_table[item]=[child_node]\n",
        "            current_node=child_node\n",
        "\n",
        "    # Define a method to get the conditional pattern base for an item\n",
        "    def conditional_pattern_base(self, item):\n",
        "        conditional_base=[]\n",
        "        if item in self.header_table:\n",
        "            for node in self.header_table[item]:\n",
        "                prefix_path=[]\n",
        "                current=node.parent\n",
        "                while current.item is not None:\n",
        "                    prefix_path.append(current.item)\n",
        "                    current = current.parent\n",
        "                if prefix_path:\n",
        "                    # Reverse the prefix path\n",
        "                    conditional_base.append((prefix_path[::-1], node.count))\n",
        "        return conditional_base\n",
        "\n",
        "# Define a function to build conditional FP Tree\n",
        "def build_conditional_tree(conditional_base, min_support):\n",
        "    conditional_tree=FPTree()\n",
        "    for transaction, count in conditional_base:\n",
        "        if count>=min_support:\n",
        "            conditional_tree.add_transaction(transaction, count)\n",
        "    return conditional_tree\n",
        "\n",
        "# Define a function to mine two-item frequent itemsets from the conditional FP-tree\n",
        "def mine_two_itemsets(conditional_tree, min_support):\n",
        "    frequent_itemsets=[]\n",
        "    for item in conditional_tree.header_table:\n",
        "        if conditional_tree.header_table[item][0].count>=min_support:\n",
        "            frequent_itemsets.append([item])\n",
        "    return frequent_itemsets\n",
        "\n",
        "# Define a function to mine frequent itemsets from the FP-tree\n",
        "def mine_frequent_itemsets(fp_tree, min_support):\n",
        "    frequent_itemsets=[]\n",
        "    for item in fp_tree.header_table:\n",
        "        # Check if the single-item is frequent\n",
        "        if fp_tree.header_table[item][0].count>=min_support:\n",
        "            frequent_itemsets.append([item])\n",
        "            # Construct a conditional pattern base for the current item\n",
        "            conditional_base=fp_tree.conditional_pattern_base(item)\n",
        "            # Build a conditional FP-tree from the conditional pattern base\n",
        "            conditional_tree=build_conditional_tree(conditional_base, min_support)\n",
        "            # Mine two-item frequent itemsets from the conditional FP-tree\n",
        "            two_itemsets=mine_two_itemsets(conditional_tree, min_support)\n",
        "            # Print the two-item frequent itemsets\n",
        "            for two_itemset in two_itemsets:\n",
        "                frequent_itemsets.append([item]+two_itemset)\n",
        "\n",
        "    return frequent_itemsets\n",
        "\n",
        "data=pd.read_csv('/content/store_data.csv')\n",
        "transactions=data.values.tolist()\n",
        "\n",
        "min_support=50\n",
        "# Construct the FP-tree\n",
        "fp_tree=FPTree()\n",
        "for transaction in transactions:\n",
        "    count=1  # Assuming each transaction has a count of 1\n",
        "    fp_tree.add_transaction(transaction, count)\n",
        "\n",
        "# Mine frequent itemsets\n",
        "frequent_itemsets=mine_frequent_itemsets(fp_tree, min_support)\n",
        "\n",
        "# Print the frequent itemsets\n",
        "print(\"Frequent Itemsets:\")\n",
        "for itemset in frequent_itemsets:\n",
        "    print(itemset)\n"
      ],
      "metadata": {
        "colab": {
          "base_uri": "https://localhost:8080/"
        },
        "id": "ewu0UBvSGS6J",
        "outputId": "4014d48b-4aba-4f08-b76f-2768794a1762"
      },
      "execution_count": null,
      "outputs": [
        {
          "output_type": "stream",
          "name": "stdout",
          "text": [
            "Frequent Itemsets:\n",
            "['burgers']\n",
            "['burgers', 'turkey']\n",
            "['turkey']\n",
            "['mineral water']\n",
            "['mineral water', 'spaghetti']\n",
            "['mineral water', 'frozen vegetables']\n",
            "['milk']\n",
            "['milk', 'mineral water']\n",
            "['whole wheat pasta']\n",
            "['soup']\n",
            "['frozen vegetables']\n",
            "['frozen vegetables', 'shrimp']\n",
            "['spaghetti']\n",
            "['spaghetti', 'frozen vegetables']\n",
            "['spaghetti', 'ground beef']\n",
            "['cookies']\n",
            "['shrimp']\n",
            "['red wine']\n",
            "['parmesan cheese']\n",
            "['ground beef']\n",
            "['herb & pepper']\n"
          ]
        }
      ]
    }
  ]
}